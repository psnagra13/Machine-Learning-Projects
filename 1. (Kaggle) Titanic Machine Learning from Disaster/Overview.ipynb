{
 "cells": [
  {
   "cell_type": "markdown",
   "metadata": {},
   "source": [
    "#   Titanic - Machine Learning from Disaster"
   ]
  },
  {
   "cell_type": "markdown",
   "metadata": {},
   "source": [
    "This competition is hosted by Kaggle.\n",
    "https://www.kaggle.com/c/titanic"
   ]
  },
  {
   "cell_type": "markdown",
   "metadata": {},
   "source": [
    "### Level : Basic"
   ]
  },
  {
   "cell_type": "markdown",
   "metadata": {},
   "source": [
    "###  Type : Binary Classifiaction"
   ]
  },
  {
   "cell_type": "markdown",
   "metadata": {},
   "source": [
    "### Description \n",
    "            In the given dataset, number of features are provided for each passenger.\n",
    "            We have to predict whether the passenger survived or not?\n",
    "                0: not survived\n",
    "                1: survived"
   ]
  },
  {
   "cell_type": "markdown",
   "metadata": {},
   "source": [
    "### Evaluation Metric : Accuracy\n",
    "        Accuracy = percentage of passengers you correctly predict"
   ]
  },
  {
   "cell_type": "markdown",
   "metadata": {},
   "source": [
    "## Dataset\n",
    "        training set : train.csv\n",
    "        test set     : test.csv"
   ]
  },
  {
   "cell_type": "markdown",
   "metadata": {},
   "source": [
    "## Dataset Description\n",
    "| Variable | Definition   | Key   |\n",
    "|------|------|------|\n",
    "|   survival  | Survival\t| 0 = No, 1 = Yes|\n",
    "|   pclass  | Ticket class\t| 1 = 1st, 2 = 2nd, 3 = 3rd|\n",
    "|   sex\t  | Sex\t| |\n",
    "|   Age  | Age in years\t| |\n",
    "|   sibsp\t| # of siblings / spouses aboard the Titanic\t| |\n",
    "|   parch\t  | # of parents / children aboard the Titanic\t| |\n",
    "|   ticket\t  | Ticket number\t| |\n",
    "|fare\t| Passenger fare\t| |\n",
    "|   cabin  | Cabin number\t| |\n",
    "|  embarked  | Port of Embarkation| C = Cherbourg, Q = Queenstown, S = Southampton|\n",
    "\n",
    "### Variable Notes\n",
    "   <b>pclass</b>: A proxy for socio-economic status (SES)\n",
    "                        1st = Upper\n",
    "                        2nd = Middle\n",
    "                        3rd = Lower\n",
    "\n",
    "  <b>age:</b> Age is fractional if less than 1. If the age is estimated, is it in the form of xx.5\n",
    "\n",
    "  <b>sibsp:</b> The dataset defines family relations in this way...\n",
    "                        Sibling = brother, sister, stepbrother, stepsister\n",
    "                        Spouse = husband, wife (mistresses and fiancés were ignored)\n",
    "\n",
    "  <b>parch:</b> The dataset defines family relations in this way...\n",
    "        Parent = mother, father\n",
    "        Child = daughter, son, stepdaughter, stepson\n",
    "        Some children travelled only with a nanny, therefore parch=0 for them.\n"
   ]
  }
 ],
 "metadata": {
  "kernelspec": {
   "display_name": "Python 3",
   "language": "python",
   "name": "python3"
  },
  "language_info": {
   "codemirror_mode": {
    "name": "ipython",
    "version": 3
   },
   "file_extension": ".py",
   "mimetype": "text/x-python",
   "name": "python",
   "nbconvert_exporter": "python",
   "pygments_lexer": "ipython3",
   "version": "3.7.0"
  }
 },
 "nbformat": 4,
 "nbformat_minor": 2
}
