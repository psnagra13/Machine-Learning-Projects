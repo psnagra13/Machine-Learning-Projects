{
 "cells": [
  {
   "cell_type": "markdown",
   "metadata": {},
   "source": [
    "## Convolutional Neural Network"
   ]
  },
  {
   "cell_type": "markdown",
   "metadata": {},
   "source": [
    "### Classifier to detect Cats and Dogs"
   ]
  },
  {
   "cell_type": "code",
   "execution_count": 1,
   "metadata": {},
   "outputs": [
    {
     "name": "stderr",
     "output_type": "stream",
     "text": [
      "/home/vesper/anaconda3/envs/aml/lib/python3.6/site-packages/h5py/__init__.py:34: FutureWarning: Conversion of the second argument of issubdtype from `float` to `np.floating` is deprecated. In future, it will be treated as `np.float64 == np.dtype(float).type`.\n",
      "  from ._conv import register_converters as _register_converters\n",
      "Using TensorFlow backend.\n"
     ]
    }
   ],
   "source": [
    "# Import Libraries\n",
    "from keras.models import Sequential\n",
    "from keras.layers import Conv2D, MaxPooling2D, Flatten, Dense "
   ]
  },
  {
   "cell_type": "markdown",
   "metadata": {},
   "source": [
    "### Load datset"
   ]
  },
  {
   "cell_type": "code",
   "execution_count": 2,
   "metadata": {},
   "outputs": [
    {
     "name": "stdout",
     "output_type": "stream",
     "text": [
      "Found 8000 images belonging to 2 classes.\n",
      "Found 2000 images belonging to 2 classes.\n"
     ]
    }
   ],
   "source": [
    "from keras.preprocessing.image import ImageDataGenerator\n",
    "\n",
    "train_datagen = ImageDataGenerator(rescale = 1./255,\n",
    "                                   shear_range = 0.2,\n",
    "                                   zoom_range = 0.2,\n",
    "                                   horizontal_flip = True)\n",
    "\n",
    "test_datagen = ImageDataGenerator(rescale = 1./255)\n",
    "\n",
    "train_images = train_datagen.flow_from_directory('dataset/training_set',\n",
    "                                                 target_size = (64, 64),\n",
    "                                                 batch_size = 32,\n",
    "                                                 class_mode = 'binary')\n",
    "\n",
    "test_images = test_datagen.flow_from_directory('dataset/test_set',\n",
    "                                            target_size = (64, 64),\n",
    "                                            batch_size = 32,\n",
    "                                            class_mode = 'binary')"
   ]
  },
  {
   "cell_type": "markdown",
   "metadata": {},
   "source": [
    "### Build Classifier"
   ]
  },
  {
   "cell_type": "code",
   "execution_count": 3,
   "metadata": {},
   "outputs": [
    {
     "name": "stdout",
     "output_type": "stream",
     "text": [
      "WARNING:tensorflow:From /home/vesper/anaconda3/envs/aml/lib/python3.6/site-packages/keras/backend/tensorflow_backend.py:1210: calling reduce_prod (from tensorflow.python.ops.math_ops) with keep_dims is deprecated and will be removed in a future version.\n",
      "Instructions for updating:\n",
      "keep_dims is deprecated, use keepdims instead\n",
      "WARNING:tensorflow:From /home/vesper/anaconda3/envs/aml/lib/python3.6/site-packages/keras/backend/tensorflow_backend.py:1299: calling reduce_mean (from tensorflow.python.ops.math_ops) with keep_dims is deprecated and will be removed in a future version.\n",
      "Instructions for updating:\n",
      "keep_dims is deprecated, use keepdims instead\n"
     ]
    }
   ],
   "source": [
    "classifier = Sequential()\n",
    "\n",
    "# Step 1 - Convolution\n",
    "classifier.add(Conv2D(32, (3, 3), input_shape = (64, 64, 3), activation = 'relu'))\n",
    "\n",
    "# Step 2 - Pooling\n",
    "classifier.add(MaxPooling2D(pool_size = (2, 2)))\n",
    "\n",
    "# Adding a second convolutional layer\n",
    "classifier.add(Conv2D(32, (3, 3), activation = 'relu'))\n",
    "classifier.add(MaxPooling2D(pool_size = (2, 2)))\n",
    "\n",
    "# Step 3 - Flattening\n",
    "classifier.add(Flatten())\n",
    "\n",
    "# Step 4 - Full connection\n",
    "classifier.add(Dense(units = 128, activation = 'relu'))\n",
    "classifier.add(Dense(units = 1, activation = 'sigmoid'))\n",
    "\n",
    "# Compiling the CNN\n",
    "classifier.compile(optimizer = 'adam', loss = 'binary_crossentropy', metrics = ['accuracy'])"
   ]
  },
  {
   "cell_type": "markdown",
   "metadata": {},
   "source": [
    "### Train classifier"
   ]
  },
  {
   "cell_type": "code",
   "execution_count": 4,
   "metadata": {},
   "outputs": [
    {
     "name": "stdout",
     "output_type": "stream",
     "text": [
      "Epoch 1/25\n",
      "8000/8000 [==============================] - 622s - loss: 0.3675 - acc: 0.8284 - val_loss: 0.4766 - val_acc: 0.8282\n",
      "Epoch 2/25\n",
      "8000/8000 [==============================] - 623s - loss: 0.1345 - acc: 0.9471 - val_loss: 0.7379 - val_acc: 0.8139\n",
      "Epoch 3/25\n",
      "8000/8000 [==============================] - 623s - loss: 0.0723 - acc: 0.9737 - val_loss: 0.8557 - val_acc: 0.8056\n",
      "Epoch 4/25\n",
      "8000/8000 [==============================] - 622s - loss: 0.0532 - acc: 0.9808 - val_loss: 0.9501 - val_acc: 0.8129\n",
      "Epoch 5/25\n",
      "8000/8000 [==============================] - 624s - loss: 0.0427 - acc: 0.9852 - val_loss: 1.0753 - val_acc: 0.8152\n",
      "Epoch 6/25\n",
      "8000/8000 [==============================] - 633s - loss: 0.0352 - acc: 0.9880 - val_loss: 1.0560 - val_acc: 0.8120\n",
      "Epoch 7/25\n",
      "8000/8000 [==============================] - 621s - loss: 0.0323 - acc: 0.9889 - val_loss: 1.1648 - val_acc: 0.8170\n",
      "Epoch 8/25\n",
      "8000/8000 [==============================] - 614s - loss: 0.0280 - acc: 0.9907 - val_loss: 1.2067 - val_acc: 0.8050\n",
      "Epoch 9/25\n",
      "8000/8000 [==============================] - 620s - loss: 0.0256 - acc: 0.9913 - val_loss: 1.1442 - val_acc: 0.8108\n",
      "Epoch 10/25\n",
      "8000/8000 [==============================] - 613s - loss: 0.0221 - acc: 0.9926 - val_loss: 1.1342 - val_acc: 0.8240\n",
      "Epoch 11/25\n",
      "8000/8000 [==============================] - 623s - loss: 0.0202 - acc: 0.9933 - val_loss: 1.2871 - val_acc: 0.8173\n",
      "Epoch 12/25\n",
      "8000/8000 [==============================] - 617s - loss: 0.0190 - acc: 0.9938 - val_loss: 1.2469 - val_acc: 0.8119\n",
      "Epoch 13/25\n",
      "8000/8000 [==============================] - 623s - loss: 0.0189 - acc: 0.9940 - val_loss: 1.2730 - val_acc: 0.8074\n",
      "Epoch 14/25\n",
      "8000/8000 [==============================] - 629s - loss: 0.0168 - acc: 0.9945 - val_loss: 1.2504 - val_acc: 0.8105\n",
      "Epoch 15/25\n",
      "8000/8000 [==============================] - 621s - loss: 0.0170 - acc: 0.9946 - val_loss: 1.2947 - val_acc: 0.8116\n",
      "Epoch 16/25\n",
      "8000/8000 [==============================] - 623s - loss: 0.0159 - acc: 0.9948 - val_loss: 1.2758 - val_acc: 0.8131\n",
      "Epoch 17/25\n",
      "8000/8000 [==============================] - 628s - loss: 0.0148 - acc: 0.9953 - val_loss: 1.3620 - val_acc: 0.8140\n",
      "Epoch 18/25\n",
      "8000/8000 [==============================] - 629s - loss: 0.0146 - acc: 0.9952 - val_loss: 1.3806 - val_acc: 0.8192\n",
      "Epoch 19/25\n",
      "8000/8000 [==============================] - 627s - loss: 0.0140 - acc: 0.9956 - val_loss: 1.2981 - val_acc: 0.8257\n",
      "Epoch 20/25\n",
      "8000/8000 [==============================] - 630s - loss: 0.0131 - acc: 0.9958 - val_loss: 1.2952 - val_acc: 0.8290\n",
      "Epoch 21/25\n",
      "8000/8000 [==============================] - 616s - loss: 0.0127 - acc: 0.9961 - val_loss: 1.3295 - val_acc: 0.8190\n",
      "Epoch 22/25\n",
      "8000/8000 [==============================] - 617s - loss: 0.0127 - acc: 0.9959 - val_loss: 1.2223 - val_acc: 0.8334\n",
      "Epoch 23/25\n",
      "8000/8000 [==============================] - 617s - loss: 0.0124 - acc: 0.9960 - val_loss: 1.3276 - val_acc: 0.8240\n",
      "Epoch 24/25\n",
      "8000/8000 [==============================] - 616s - loss: 0.0116 - acc: 0.9965 - val_loss: 1.2751 - val_acc: 0.8241\n",
      "Epoch 25/25\n",
      "8000/8000 [==============================] - 616s - loss: 0.0114 - acc: 0.9964 - val_loss: 1.4635 - val_acc: 0.8148\n"
     ]
    },
    {
     "data": {
      "text/plain": [
       "<keras.callbacks.History at 0x7f79df19c390>"
      ]
     },
     "execution_count": 4,
     "metadata": {},
     "output_type": "execute_result"
    }
   ],
   "source": [
    "classifier.fit_generator(train_images,\n",
    "                         steps_per_epoch = 8000,\n",
    "                         epochs = 25,\n",
    "                         validation_data = test_images,\n",
    "                         validation_steps = 2000)"
   ]
  },
  {
   "cell_type": "markdown",
   "metadata": {},
   "source": [
    "### Predict on new Image"
   ]
  },
  {
   "cell_type": "markdown",
   "metadata": {},
   "source": [
    "## Save Model"
   ]
  },
  {
   "cell_type": "code",
   "execution_count": 8,
   "metadata": {},
   "outputs": [],
   "source": [
    "from keras.models import load_model\n",
    "\n",
    "classifier.save('my_model.h5')  # creates a HDF5 file 'my_model.h5'\n",
    "del classifier  # deletes the existing model\n",
    "\n",
    "# returns a compiled model\n",
    "# identical to the previous one\n",
    "model = load_model('my_model.h5')"
   ]
  },
  {
   "cell_type": "code",
   "execution_count": 18,
   "metadata": {},
   "outputs": [],
   "source": [
    "import numpy as np\n",
    "from keras.preprocessing import image\n",
    "test_image = image.load_img('dataset/single_prediction/cat_or_dog_1.jpg', target_size = (64, 64))\n",
    "test_image = image.img_to_array(test_image)\n",
    "test_image = np.expand_dims(test_image, axis = 0)\n",
    "result = model.predict(test_image)\n",
    "train_images.class_indices\n",
    "if result[0][0] == 1:\n",
    "    prediction = 'dog'\n",
    "else:\n",
    "    prediction = 'cat'"
   ]
  },
  {
   "cell_type": "code",
   "execution_count": 15,
   "metadata": {},
   "outputs": [
    {
     "data": {
      "text/plain": [
       "(1, 64, 64, 3)"
      ]
     },
     "execution_count": 15,
     "metadata": {},
     "output_type": "execute_result"
    }
   ],
   "source": [
    "test_image.shape"
   ]
  },
  {
   "cell_type": "code",
   "execution_count": 19,
   "metadata": {},
   "outputs": [
    {
     "data": {
      "image/png": "[encoded data removed]",
      "text/plain": [
       "<matplotlib.figure.Figure at 0x7f7990371f98>"
      ]
     },
     "metadata": {
      "needs_background": "light"
     },
     "output_type": "display_data"
    }
   ],
   "source": [
    "import matplotlib.pyplot as plt\n",
    "import matplotlib.image as mpimg\n",
    "test_image = image.load_img('dataset/single_prediction/cat_or_dog_1.jpg', target_size = (64, 64))\n",
    "plt.imshow(test_image)\n",
    "plt.show()"
   ]
  },
  {
   "cell_type": "code",
   "execution_count": 13,
   "metadata": {},
   "outputs": [
    {
     "data": {
      "text/plain": [
       "'dog'"
      ]
     },
     "execution_count": 13,
     "metadata": {},
     "output_type": "execute_result"
    }
   ],
   "source": [
    "prediction"
   ]
  }
 ],
 "metadata": {
  "kernelspec": {
   "display_name": "Python 3",
   "language": "python",
   "name": "python3"
  },
  "language_info": {
   "codemirror_mode": {
    "name": "ipython",
    "version": 3
   },
   "file_extension": ".py",
   "mimetype": "text/x-python",
   "name": "python",
   "nbconvert_exporter": "python",
   "pygments_lexer": "ipython3",
   "version": "3.6.6"
  }
 },
 "nbformat": 4,
 "nbformat_minor": 2
}
