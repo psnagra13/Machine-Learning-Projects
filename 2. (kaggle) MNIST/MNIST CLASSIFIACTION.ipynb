{
 "cells": [
  {
   "cell_type": "markdown",
   "metadata": {},
   "source": [
    "# MNIST Digit CLassification\n",
    "MNIST (\"Modified National Institute of Standards and Technology\") is the de facto “hello world” dataset of computer vision. "
   ]
  },
  {
   "cell_type": "markdown",
   "metadata": {},
   "source": [
    "# Dataset: \n",
    "\n",
    "### contain gray-scale images of hand-drawn digits, from zero through nine.\n",
    "\n",
    "####     Files \n",
    "        train.csv \n",
    "        test.csv \n",
    "\n",
    "Each Image = 28x28 (= 784 pixels)\n",
    "\n",
    "This pixel-value is an integer between 0 and 255, inclusive.\n"
   ]
  },
  {
   "cell_type": "code",
   "execution_count": 1,
   "metadata": {},
   "outputs": [
    {
     "name": "stderr",
     "output_type": "stream",
     "text": [
      "/home/vesper/anaconda3/envs/aml/lib/python3.6/site-packages/h5py/__init__.py:34: FutureWarning: Conversion of the second argument of issubdtype from `float` to `np.floating` is deprecated. In future, it will be treated as `np.float64 == np.dtype(float).type`.\n",
      "  from ._conv import register_converters as _register_converters\n",
      "Using TensorFlow backend.\n"
     ]
    }
   ],
   "source": [
    "# Import Libraries\n",
    "import pandas as pd\n",
    "import numpy as np\n",
    "import matplotlib.pyplot as plt\n",
    "import keras\n",
    "from sklearn.model_selection import train_test_split\n",
    "from keras.models import Sequential\n",
    "from keras.layers import Conv2D,MaxPool2D, Dropout, Flatten, Dense\n",
    "\n",
    "# initialize logger\n",
    "import logging\n",
    "logging.basicConfig(level = logging.INFO,\n",
    "                    format = '%(asctime)s - %(levelname)s - %(message)s')"
   ]
  },
  {
   "cell_type": "markdown",
   "metadata": {},
   "source": [
    "### Load train dataset"
   ]
  },
  {
   "cell_type": "code",
   "execution_count": 2,
   "metadata": {},
   "outputs": [
    {
     "name": "stderr",
     "output_type": "stream",
     "text": [
      "2019-01-20 22:46:27,372 - INFO - Train Dataset Shape : (42000, 785)\n",
      "2019-01-20 22:46:27,373 - INFO - Test Dataset Shape : (28000, 784)\n"
     ]
    },
    {
     "data": {
      "text/html": [
       "<div>\n",
       "<table border=\"1\" class=\"dataframe\">\n",
       "  <thead>\n",
       "    <tr style=\"text-align: right;\">\n",
       "      <th></th>\n",
       "      <th>label</th>\n",
       "      <th>pixel0</th>\n",
       "      <th>pixel1</th>\n",
       "      <th>pixel2</th>\n",
       "      <th>pixel3</th>\n",
       "      <th>pixel4</th>\n",
       "      <th>pixel5</th>\n",
       "      <th>pixel6</th>\n",
       "      <th>pixel7</th>\n",
       "      <th>pixel8</th>\n",
       "      <th>...</th>\n",
       "      <th>pixel774</th>\n",
       "      <th>pixel775</th>\n",
       "      <th>pixel776</th>\n",
       "      <th>pixel777</th>\n",
       "      <th>pixel778</th>\n",
       "      <th>pixel779</th>\n",
       "      <th>pixel780</th>\n",
       "      <th>pixel781</th>\n",
       "      <th>pixel782</th>\n",
       "      <th>pixel783</th>\n",
       "    </tr>\n",
       "  </thead>\n",
       "  <tbody>\n",
       "    <tr>\n",
       "      <th>0</th>\n",
       "      <td>1</td>\n",
       "      <td>0</td>\n",
       "      <td>0</td>\n",
       "      <td>0</td>\n",
       "      <td>0</td>\n",
       "      <td>0</td>\n",
       "      <td>0</td>\n",
       "      <td>0</td>\n",
       "      <td>0</td>\n",
       "      <td>0</td>\n",
       "      <td>...</td>\n",
       "      <td>0</td>\n",
       "      <td>0</td>\n",
       "      <td>0</td>\n",
       "      <td>0</td>\n",
       "      <td>0</td>\n",
       "      <td>0</td>\n",
       "      <td>0</td>\n",
       "      <td>0</td>\n",
       "      <td>0</td>\n",
       "      <td>0</td>\n",
       "    </tr>\n",
       "    <tr>\n",
       "      <th>1</th>\n",
       "      <td>0</td>\n",
       "      <td>0</td>\n",
       "      <td>0</td>\n",
       "      <td>0</td>\n",
       "      <td>0</td>\n",
       "      <td>0</td>\n",
       "      <td>0</td>\n",
       "      <td>0</td>\n",
       "      <td>0</td>\n",
       "      <td>0</td>\n",
       "      <td>...</td>\n",
       "      <td>0</td>\n",
       "      <td>0</td>\n",
       "      <td>0</td>\n",
       "      <td>0</td>\n",
       "      <td>0</td>\n",
       "      <td>0</td>\n",
       "      <td>0</td>\n",
       "      <td>0</td>\n",
       "      <td>0</td>\n",
       "      <td>0</td>\n",
       "    </tr>\n",
       "    <tr>\n",
       "      <th>2</th>\n",
       "      <td>1</td>\n",
       "      <td>0</td>\n",
       "      <td>0</td>\n",
       "      <td>0</td>\n",
       "      <td>0</td>\n",
       "      <td>0</td>\n",
       "      <td>0</td>\n",
       "      <td>0</td>\n",
       "      <td>0</td>\n",
       "      <td>0</td>\n",
       "      <td>...</td>\n",
       "      <td>0</td>\n",
       "      <td>0</td>\n",
       "      <td>0</td>\n",
       "      <td>0</td>\n",
       "      <td>0</td>\n",
       "      <td>0</td>\n",
       "      <td>0</td>\n",
       "      <td>0</td>\n",
       "      <td>0</td>\n",
       "      <td>0</td>\n",
       "    </tr>\n",
       "  </tbody>\n",
       "</table>\n",
       "<p>3 rows × 785 columns</p>\n",
       "</div>"
      ],
      "text/plain": [
       "   label  pixel0  pixel1  pixel2  pixel3  pixel4  pixel5  pixel6  pixel7  \\\n",
       "0      1       0       0       0       0       0       0       0       0   \n",
       "1      0       0       0       0       0       0       0       0       0   \n",
       "2      1       0       0       0       0       0       0       0       0   \n",
       "\n",
       "   pixel8    ...     pixel774  pixel775  pixel776  pixel777  pixel778  \\\n",
       "0       0    ...            0         0         0         0         0   \n",
       "1       0    ...            0         0         0         0         0   \n",
       "2       0    ...            0         0         0         0         0   \n",
       "\n",
       "   pixel779  pixel780  pixel781  pixel782  pixel783  \n",
       "0         0         0         0         0         0  \n",
       "1         0         0         0         0         0  \n",
       "2         0         0         0         0         0  \n",
       "\n",
       "[3 rows x 785 columns]"
      ]
     },
     "execution_count": 2,
     "metadata": {},
     "output_type": "execute_result"
    }
   ],
   "source": [
    "train = pd.read_csv('dataset/train.csv')\n",
    "test_x = pd.read_csv('dataset/test.csv')\n",
    "logging.info('Train Dataset Shape : ' + str(train.shape) )\n",
    "logging.info('Test Dataset Shape : ' + str(test_x.shape) )\n",
    "train.head(3)"
   ]
  },
  {
   "cell_type": "code",
   "execution_count": 3,
   "metadata": {},
   "outputs": [
    {
     "name": "stderr",
     "output_type": "stream",
     "text": [
      "2019-01-20 22:46:29,275 - INFO - x Shape : (42000, 784)\n",
      "2019-01-20 22:46:29,276 - INFO - y Shape : (42000,)\n"
     ]
    }
   ],
   "source": [
    "x = train.iloc[:, 1:].values\n",
    "y = train.iloc[:, 0].values\n",
    "logging.info('x Shape : ' + str(x.shape) )\n",
    "logging.info('y Shape : ' + str(y.shape) )"
   ]
  },
  {
   "cell_type": "code",
   "execution_count": 4,
   "metadata": {},
   "outputs": [
    {
     "data": {
      "text/plain": [
       "<matplotlib.axes._subplots.AxesSubplot at 0x7f73a76cd588>"
      ]
     },
     "execution_count": 4,
     "metadata": {},
     "output_type": "execute_result"
    },
    {
     "data": {
      "image/png": "[encoded data removed]",
      "text/plain": [
       "<matplotlib.figure.Figure at 0x7f73a76f0fd0>"
      ]
     },
     "metadata": {
      "needs_background": "light"
     },
     "output_type": "display_data"
    }
   ],
   "source": [
    "train['label'].value_counts().sort_index().plot.bar()"
   ]
  },
  {
   "cell_type": "markdown",
   "metadata": {},
   "source": [
    "### Reshape Images to 2-d vector"
   ]
  },
  {
   "cell_type": "code",
   "execution_count": 5,
   "metadata": {},
   "outputs": [
    {
     "name": "stderr",
     "output_type": "stream",
     "text": [
      "2019-01-20 22:47:00,982 - INFO - Before : x Shape : (42000, 784)\n",
      "2019-01-20 22:47:00,982 - INFO - Before : test_x Shape : (42000, 784)\n",
      "2019-01-20 22:47:01,125 - INFO - After: x Shape : (42000, 28, 28, 1)\n",
      "2019-01-20 22:47:01,126 - INFO - After: test_x Shape : (28000, 28, 28, 1)\n"
     ]
    }
   ],
   "source": [
    "logging.info('Before : x Shape : ' + str(x.shape) )\n",
    "logging.info('Before : test_x Shape : ' + str(x.shape) )\n",
    "x = np.array(x).reshape((x.shape[0], 28, 28,1))\n",
    "test_x = np.array(test_x).reshape((test_x.shape[0], 28, 28,1))\n",
    "logging.info('After: x Shape : ' + str(x.shape) )\n",
    "logging.info('After: test_x Shape : ' + str(test_x.shape) )"
   ]
  },
  {
   "cell_type": "markdown",
   "metadata": {},
   "source": [
    "### Visualize Data"
   ]
  },
  {
   "cell_type": "code",
   "execution_count": 19,
   "metadata": {},
   "outputs": [
    {
     "data": {
      "image/png": "[encoded data removed]",
      "text/plain": [
       "<matplotlib.figure.Figure at 0x7f73a86a4ef0>"
      ]
     },
     "metadata": {
      "needs_background": "light"
     },
     "output_type": "display_data"
    }
   ],
   "source": [
    "test_x_images = np.array(test_x).reshape((test_x.shape[0], 28, 28))\n",
    "fig=plt.figure(figsize=(10, 10))\n",
    "columns = 4\n",
    "rows = 2\n",
    "for i in range(1, columns*rows +1):\n",
    "    img = test_x_images[i-1]\n",
    "    fig.add_subplot(rows, columns, i)\n",
    "    plt.imshow(img)\n",
    "plt.show()"
   ]
  },
  {
   "cell_type": "markdown",
   "metadata": {},
   "source": [
    "### Noramalize Images"
   ]
  },
  {
   "cell_type": "code",
   "execution_count": 7,
   "metadata": {},
   "outputs": [],
   "source": [
    "x = x.astype('float32') / 255.0 - 0.5\n",
    "test_x = test_x.astype('float32')/255.0 - 0.5"
   ]
  },
  {
   "cell_type": "markdown",
   "metadata": {},
   "source": [
    "### Convert label to one-hot vector"
   ]
  },
  {
   "cell_type": "code",
   "execution_count": 8,
   "metadata": {},
   "outputs": [],
   "source": [
    "y = keras.utils.to_categorical(y, 10)"
   ]
  },
  {
   "cell_type": "markdown",
   "metadata": {},
   "source": [
    "### Split Data into training and Validation"
   ]
  },
  {
   "cell_type": "code",
   "execution_count": 9,
   "metadata": {},
   "outputs": [
    {
     "name": "stderr",
     "output_type": "stream",
     "text": [
      "2019-01-20 22:47:17,095 - INFO - Befor: x Shape : (42000, 28, 28, 1)\n",
      "2019-01-20 22:47:17,096 - INFO - Befor: y Shape : (42000, 10)\n",
      "2019-01-20 22:47:17,248 - INFO - After: x_train Shape : (42000, 28, 28, 1)\n",
      "2019-01-20 22:47:17,248 - INFO - After: y_train Shape : (42000, 10)\n",
      "2019-01-20 22:47:17,248 - INFO - After: x_val Shape : (6300, 28, 28, 1)\n",
      "2019-01-20 22:47:17,249 - INFO - After: y_val Shape : (6300, 10)\n"
     ]
    }
   ],
   "source": [
    "logging.info('Befor: x Shape : ' + str(x.shape) )\n",
    "logging.info('Befor: y Shape : ' + str(y.shape) )\n",
    "x_train, x_val, y_train, y_val = train_test_split(x, y, test_size=0.15)\n",
    "logging.info('After: x_train Shape : ' + str(x.shape) )\n",
    "logging.info('After: y_train Shape : ' + str(y.shape) )\n",
    "logging.info('After: x_val Shape : ' + str(x_val.shape) )\n",
    "logging.info('After: y_val Shape : ' + str(y_val.shape) )"
   ]
  },
  {
   "cell_type": "markdown",
   "metadata": {},
   "source": [
    "## Build Model"
   ]
  },
  {
   "cell_type": "code",
   "execution_count": 48,
   "metadata": {},
   "outputs": [],
   "source": [
    "\n",
    "\n",
    "model = Sequential()\n",
    "\n",
    "# Add CONV1\n",
    "model.add( Conv2D(\n",
    "                      filters=256,\n",
    "                      kernel_size=(2,2),\n",
    "                      input_shape=(28,28,1)  ))\n",
    "# Add Pool1\n",
    "model.add( MaxPool2D( pool_size=(2,2) ))\n",
    "# Add Dropout\n",
    "model.add( Dropout(rate=0.2))\n",
    "\n",
    "\n",
    "# Add CONV2\n",
    "model.add( Conv2D(\n",
    "                      filters=256,\n",
    "                      kernel_size=(2,2) ))\n",
    "# Add Pool2\n",
    "model.add( MaxPool2D( pool_size=(2,2) ))\n",
    "# Add Dropout\n",
    "model.add( Dropout(rate=0.2))\n",
    "\n",
    "# Flatten\n",
    "model.add(Flatten())\n",
    "\n",
    "# Add Dense Layer 1\n",
    "model.add( Dense( 256, activation='relu') )\n",
    "# Add Dropout\n",
    "model.add( Dropout(rate=0.3))\n",
    "\n",
    "\n",
    "# Add Final Layer (output layer)\n",
    "model.add( Dense(10, activation='softmax'))\n",
    "\n",
    "model.compile( \n",
    "                loss='categorical_crossentropy',\n",
    "                optimizer='rmsprop',\n",
    "                metrics=['accuracy'])"
   ]
  },
  {
   "cell_type": "code",
   "execution_count": 49,
   "metadata": {},
   "outputs": [
    {
     "name": "stdout",
     "output_type": "stream",
     "text": [
      "_________________________________________________________________\n",
      "Layer (type)                 Output Shape              Param #   \n",
      "=================================================================\n",
      "conv2d_12 (Conv2D)           (None, 27, 27, 256)       1280      \n",
      "_________________________________________________________________\n",
      "max_pooling2d_12 (MaxPooling (None, 13, 13, 256)       0         \n",
      "_________________________________________________________________\n",
      "dropout_18 (Dropout)         (None, 13, 13, 256)       0         \n",
      "_________________________________________________________________\n",
      "conv2d_13 (Conv2D)           (None, 12, 12, 256)       262400    \n",
      "_________________________________________________________________\n",
      "max_pooling2d_13 (MaxPooling (None, 6, 6, 256)         0         \n",
      "_________________________________________________________________\n",
      "dropout_19 (Dropout)         (None, 6, 6, 256)         0         \n",
      "_________________________________________________________________\n",
      "flatten_7 (Flatten)          (None, 9216)              0         \n",
      "_________________________________________________________________\n",
      "dense_13 (Dense)             (None, 256)               2359552   \n",
      "_________________________________________________________________\n",
      "dropout_20 (Dropout)         (None, 256)               0         \n",
      "_________________________________________________________________\n",
      "dense_14 (Dense)             (None, 10)                2570      \n",
      "=================================================================\n",
      "Total params: 2,625,802\n",
      "Trainable params: 2,625,802\n",
      "Non-trainable params: 0\n",
      "_________________________________________________________________\n"
     ]
    }
   ],
   "source": [
    "model.summary()"
   ]
  },
  {
   "cell_type": "markdown",
   "metadata": {},
   "source": [
    "### Train the model"
   ]
  },
  {
   "cell_type": "code",
   "execution_count": 56,
   "metadata": {},
   "outputs": [
    {
     "name": "stdout",
     "output_type": "stream",
     "text": [
      "Train on 35700 samples, validate on 6300 samples\n",
      "Epoch 1/30\n",
      "35700/35700 [==============================] - 7s - loss: 0.0203 - acc: 0.9982 - val_loss: 0.0400 - val_acc: 0.9973\n",
      "Epoch 2/30\n",
      "35700/35700 [==============================] - 7s - loss: 0.0217 - acc: 0.9979 - val_loss: 0.0366 - val_acc: 0.9975\n",
      "Epoch 3/30\n",
      "35700/35700 [==============================] - 7s - loss: 0.0232 - acc: 0.9978 - val_loss: 0.0369 - val_acc: 0.9975\n",
      "Epoch 4/30\n",
      "35700/35700 [==============================] - 6s - loss: 0.0249 - acc: 0.9976 - val_loss: 0.0382 - val_acc: 0.9973\n",
      "Epoch 5/30\n",
      "35700/35700 [==============================] - 6s - loss: 0.0217 - acc: 0.9980 - val_loss: 0.0387 - val_acc: 0.9975\n",
      "Epoch 6/30\n",
      "35700/35700 [==============================] - 6s - loss: 0.0249 - acc: 0.9979 - val_loss: 0.0493 - val_acc: 0.9963\n",
      "Epoch 7/30\n",
      "35700/35700 [==============================] - 6s - loss: 0.0190 - acc: 0.9983 - val_loss: 0.0430 - val_acc: 0.9965\n",
      "Epoch 8/30\n",
      "35700/35700 [==============================] - 7s - loss: 0.0188 - acc: 0.9982 - val_loss: 0.0475 - val_acc: 0.9965\n",
      "Epoch 9/30\n",
      "35700/35700 [==============================] - 6s - loss: 0.0201 - acc: 0.9980 - val_loss: 0.0502 - val_acc: 0.9965\n",
      "Epoch 10/30\n",
      "35700/35700 [==============================] - 6s - loss: 0.0221 - acc: 0.9980 - val_loss: 0.0381 - val_acc: 0.9976\n",
      "Epoch 11/30\n",
      "35700/35700 [==============================] - 6s - loss: 0.0204 - acc: 0.9982 - val_loss: 0.0421 - val_acc: 0.9973\n",
      "Epoch 12/30\n",
      "35700/35700 [==============================] - 7s - loss: 0.0204 - acc: 0.9981 - val_loss: 0.0446 - val_acc: 0.9970\n",
      "Epoch 13/30\n",
      "35700/35700 [==============================] - 6s - loss: 0.0210 - acc: 0.9981 - val_loss: 0.0313 - val_acc: 0.9978\n",
      "Epoch 14/30\n",
      "35700/35700 [==============================] - 6s - loss: 0.0198 - acc: 0.9982 - val_loss: 0.0379 - val_acc: 0.9970\n",
      "Epoch 15/30\n",
      "35700/35700 [==============================] - 6s - loss: 0.0170 - acc: 0.9984 - val_loss: 0.0359 - val_acc: 0.9978\n",
      "Epoch 16/30\n",
      "35700/35700 [==============================] - 6s - loss: 0.0177 - acc: 0.9985 - val_loss: 0.0426 - val_acc: 0.9970\n",
      "Epoch 17/30\n",
      "35700/35700 [==============================] - 6s - loss: 0.0164 - acc: 0.9984 - val_loss: 0.0522 - val_acc: 0.9962\n",
      "Epoch 18/30\n",
      "35700/35700 [==============================] - 6s - loss: 0.0293 - acc: 0.9975 - val_loss: 0.0612 - val_acc: 0.9957\n",
      "Epoch 19/30\n",
      "35700/35700 [==============================] - 6s - loss: 0.0250 - acc: 0.9979 - val_loss: 0.0420 - val_acc: 0.9973\n",
      "Epoch 20/30\n",
      "35700/35700 [==============================] - 6s - loss: 0.0214 - acc: 0.9981 - val_loss: 0.0576 - val_acc: 0.9959\n",
      "Epoch 21/30\n",
      "35700/35700 [==============================] - 6s - loss: 0.0285 - acc: 0.9976 - val_loss: 0.0458 - val_acc: 0.9968\n",
      "Epoch 22/30\n",
      "35700/35700 [==============================] - 6s - loss: 0.0205 - acc: 0.9983 - val_loss: 0.0485 - val_acc: 0.9968\n",
      "Epoch 23/30\n",
      "35700/35700 [==============================] - 6s - loss: 0.0199 - acc: 0.9982 - val_loss: 0.0494 - val_acc: 0.9965\n",
      "Epoch 24/30\n",
      "35700/35700 [==============================] - 6s - loss: 0.0187 - acc: 0.9982 - val_loss: 0.0484 - val_acc: 0.9965\n",
      "Epoch 25/30\n",
      "35700/35700 [==============================] - 6s - loss: 0.0145 - acc: 0.9987 - val_loss: 0.0516 - val_acc: 0.9963\n",
      "Epoch 26/30\n",
      "35700/35700 [==============================] - 6s - loss: 0.0144 - acc: 0.9988 - val_loss: 0.0622 - val_acc: 0.9957\n",
      "Epoch 27/30\n",
      "35700/35700 [==============================] - 6s - loss: 0.0240 - acc: 0.9981 - val_loss: 0.0427 - val_acc: 0.9968\n",
      "Epoch 28/30\n",
      "35700/35700 [==============================] - 6s - loss: 0.0148 - acc: 0.9987 - val_loss: 0.0431 - val_acc: 0.9965\n",
      "Epoch 29/30\n",
      "35700/35700 [==============================] - 6s - loss: 0.0190 - acc: 0.9983 - val_loss: 0.0499 - val_acc: 0.9967\n",
      "Epoch 30/30\n",
      "35700/35700 [==============================] - 6s - loss: 0.0209 - acc: 0.9983 - val_loss: 0.0603 - val_acc: 0.9954\n"
     ]
    },
    {
     "data": {
      "text/plain": [
       "<keras.callbacks.History at 0x7f73348f0be0>"
      ]
     },
     "execution_count": 56,
     "metadata": {},
     "output_type": "execute_result"
    }
   ],
   "source": [
    "model.fit(x_train, y_train, epochs=30, batch_size=64, validation_data=(x_val, y_val))"
   ]
  },
  {
   "cell_type": "code",
   "execution_count": 57,
   "metadata": {},
   "outputs": [
    {
     "name": "stderr",
     "output_type": "stream",
     "text": [
      "2019-01-20 23:28:33,767 - INFO - test_x Shape : (28000, 28, 28, 1)\n"
     ]
    },
    {
     "name": "stdout",
     "output_type": "stream",
     "text": [
      "27840/28000 [============================>.] - ETA: 0s"
     ]
    },
    {
     "name": "stderr",
     "output_type": "stream",
     "text": [
      "2019-01-20 23:28:35,644 - INFO - test_y_pred Shape : (28000,)\n"
     ]
    }
   ],
   "source": [
    "logging.info('test_x Shape : ' + str(test_x.shape) )\n",
    "test_y_pred = model.predict_classes(test_x, batch_size = 64)\n",
    "logging.info('test_y_pred Shape : ' + str(test_y_pred.shape) )"
   ]
  },
  {
   "cell_type": "code",
   "execution_count": 58,
   "metadata": {},
   "outputs": [],
   "source": [
    "result = pd.Series(test_y_pred, name = \"Label\")\n",
    "submit = pd.concat([pd.Series(range(1, 28001), name = \"ImageId\"), result], axis = 1)\n",
    "submit.to_csv(\"Submission.csv\", index = False)"
   ]
  }
 ],
 "metadata": {
  "kernelspec": {
   "display_name": "Python 3",
   "language": "python",
   "name": "python3"
  },
  "language_info": {
   "codemirror_mode": {
    "name": "ipython",
    "version": 3
   },
   "file_extension": ".py",
   "mimetype": "text/x-python",
   "name": "python",
   "nbconvert_exporter": "python",
   "pygments_lexer": "ipython3",
   "version": "3.6.6"
  }
 },
 "nbformat": 4,
 "nbformat_minor": 2
}
